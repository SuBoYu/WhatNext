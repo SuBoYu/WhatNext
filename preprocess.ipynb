{
 "cells": [
  {
   "cell_type": "code",
   "execution_count": 3,
   "metadata": {},
   "outputs": [],
   "source": [
    "import os\n",
    "import pandas as pd\n",
    "import numpy as np\n",
    "import json\n",
    "import spotipy\n",
    "import spotipy.oauth2 as oauth2\n",
    "from spotipy.oauth2 import SpotifyOAuth,SpotifyClientCredentials\n",
    "import re\n",
    "from tqdm import tqdm\n",
    "import multiprocessing as mp\n",
    "import time\n",
    "import random\n",
    "import datetime"
   ]
  },
  {
   "cell_type": "code",
   "execution_count": 4,
   "metadata": {},
   "outputs": [],
   "source": [
    "def loop_slices(path, num_slices=20):\n",
    "  cnt = 0\n",
    "  cnt1 = 0\n",
    "  mpd_playlists = []\n",
    "  unique_tracks= pd.DataFrame()\n",
    "  filenames = os.listdir(path)\n",
    "  for fname in tqdm(sorted(filenames, key=len)):\n",
    "    if fname.startswith(\"mpd.slice.\") and fname.endswith(\".json\"):\n",
    "      cnt += 1\n",
    "      fullpath = os.sep.join((path, fname))\n",
    "      f = open(fullpath)\n",
    "      js = f.read()\n",
    "      f.close()\n",
    "      current_slice = json.loads(js)\n",
    "      # Create a list of all playlists\n",
    "      for playlist in current_slice['playlists']:\n",
    "        cnt1 +=1\n",
    "        mpd_playlists.append(playlist)\n",
    "        if cnt1 == 1000:\n",
    "          cnt1=0\n",
    "          temp=pd.DataFrame(mpd_playlists)\n",
    "          temp=temp.explode('tracks')\n",
    "          temp=pd.DataFrame(temp['tracks'].apply(pd.Series))\n",
    "          unique_tracks=pd.concat([unique_tracks,temp],axis=0)\n",
    "          unique_tracks.drop_duplicates(subset=['track_uri'],inplace=True)\n",
    "          mpd_playlists = []\n",
    "      if cnt == num_slices:\n",
    "        break\n",
    "  return unique_tracks\n",
    "# Path where the json files are extracted\n"
   ]
  },
  {
   "cell_type": "code",
   "execution_count": 9,
   "metadata": {},
   "outputs": [
    {
     "name": "stderr",
     "output_type": "stream",
     "text": [
      "  0%|          | 0/1000 [00:00<?, ?it/s]"
     ]
    },
    {
     "name": "stderr",
     "output_type": "stream",
     "text": [
      "100%|█████████▉| 999/1000 [1:11:59<00:04,  4.32s/it]\n"
     ]
    }
   ],
   "source": [
    "path = 'dset/spotify_million_playlist_dataset/data/'\n",
    "df = loop_slices(path, num_slices=1000)\n",
    "df.to_csv('dset/postprocess.csv')"
   ]
  },
  {
   "cell_type": "code",
   "execution_count": 10,
   "metadata": {},
   "outputs": [],
   "source": [
    "df[\"track_uri\"] = df[\"track_uri\"].apply(lambda x: re.findall(r'\\w+$', x)[0])\n",
    "df[\"artist_uri\"] = df[\"artist_uri\"].apply(lambda x: re.findall(r'\\w+$', x)[0])\n",
    "df[\"album_uri\"] = df[\"album_uri\"].apply(lambda x: re.findall(r'\\w+$', x)[0])"
   ]
  },
  {
   "cell_type": "code",
   "execution_count": null,
   "metadata": {},
   "outputs": [],
   "source": [
    "df = df[['track_uri', 'artist_uri', 'album_uri']]"
   ]
  }
 ],
 "metadata": {
  "kernelspec": {
   "display_name": "venv",
   "language": "python",
   "name": "python3"
  },
  "language_info": {
   "codemirror_mode": {
    "name": "ipython",
    "version": 3
   },
   "file_extension": ".py",
   "mimetype": "text/x-python",
   "name": "python",
   "nbconvert_exporter": "python",
   "pygments_lexer": "ipython3",
   "version": "3.11.3"
  }
 },
 "nbformat": 4,
 "nbformat_minor": 2
}
